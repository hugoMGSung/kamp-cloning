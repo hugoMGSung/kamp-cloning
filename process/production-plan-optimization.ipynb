{
 "cells": [
  {
   "cell_type": "markdown",
   "metadata": {},
   "source": [
    "# 생산계획 최적화 따라하기\n",
    "\n",
    "- 출처 : 중소벤처기업부, Korea AI Manufacturing Platform(KAMP), 생산계획 최적화 AI 데이터셋, 인공지능 중소벤처 제조 플랫폼, 2021.12.27\n",
    "         https://www.kamp-ai.kr/front/dataset/AiDataDetail.jsp?AI_SEARCH=&page=2&DATASET_SEQ=30&EQUIP_SEL=&FILE_TYPE_SEL=&GUBUN_SEL=&WDATE_SEL=\n",
    "\n",
    "\n",
    "- 필요데이터 : machine_info.csv, order_info.csv       "
   ]
  },
  {
   "cell_type": "markdown",
   "metadata": {},
   "source": [
    "## 사용 알고리즘\n",
    "\n",
    "### Genetic Algorithm\n",
    "- 유전 알고리즘\n",
    "- 변이과정과 적자생존으로 최적의 개체를 유전하는 자연현상을 최적화에 적용한 알고리즘. 임의의 조합으로 집합(population) 생성, 최적도(fitness)가 높은 조합해를 선택(selection), 재조합(crossover), 변이(mutation)하는 일련의 과정(generation)을 반복, 더 나은 조합해를 찾는 과정\n",
    "\n",
    "### 시사점\n",
    "- NC설비 공정의 작업 우선순위 설정 개선 및 납기지연 감소(20% 이상) 기대\n",
    "- 생산 계획을 최적화하는 알고리즘 개발\n",
    "- 다양한 제조공정에 적용 기대"
   ]
  },
  {
   "cell_type": "markdown",
   "metadata": {},
   "source": [
    "선박용 볼트 및 너트 제조공정 -> 선박 엔진에 들어가는 볼트,너트는 장난이 아니에요~~~"
   ]
  },
  {
   "cell_type": "markdown",
   "metadata": {},
   "source": [
    "#### 데이터 정의\n",
    "\n",
    "- 독립변수\n",
    "    - 영업납기(time)\n",
    "    - 중산도면(item), NC설비번호(machine)\n",
    "    - 단가(cost)\n",
    "    - 선급(prepaid), 긴급(urgent)\n",
    "    - 수량(qty), 설비일일용량(CYCLETIME, capacity)\n",
    "- 종속변수\n",
    "    - 실제 생산량(amount of item), 패널티(penalty ??)"
   ]
  },
  {
   "cell_type": "markdown",
   "metadata": {},
   "source": [
    "#### 분석 단계별 프로세스\n",
    "1. 라이브러리/ 데이터 로드\n",
    "2. 데이터 유효성 검증\n",
    "3. 종류 및 개수 확인\n",
    "4. 데이터 정제\n",
    "5. 변수 생성\n",
    "6. 유전 알고리즘 구축 (세부함수, 파라미터 할당)\n",
    "7. 알고리즘 실행\n",
    "8. 결과분석 및 해석"
   ]
  },
  {
   "cell_type": "markdown",
   "metadata": {},
   "source": [
    "#### 1 라이브러리/ 데이터 로드"
   ]
  },
  {
   "cell_type": "code",
   "execution_count": 2,
   "metadata": {},
   "outputs": [],
   "source": [
    "import random as rnd\n",
    "import pandas as pd\n",
    "import numpy as np\n",
    "import matplotlib.pyplot as plt\n",
    "import datetime\n",
    "\n",
    "from numpy.random import randint, rand\n",
    "from tqdm import tqdm"
   ]
  },
  {
   "cell_type": "code",
   "execution_count": 3,
   "metadata": {},
   "outputs": [],
   "source": [
    "machine_info = pd.read_csv('./data/machine_info.csv')\n",
    "order_info = pd.read_csv('./data/order_info.csv')"
   ]
  },
  {
   "cell_type": "code",
   "execution_count": 5,
   "metadata": {},
   "outputs": [
    {
     "name": "stdout",
     "output_type": "stream",
     "text": [
      "<class 'pandas.core.frame.DataFrame'>\n",
      "RangeIndex: 21151 entries, 0 to 21150\n",
      "Data columns (total 3 columns):\n",
      " #   Column    Non-Null Count  Dtype  \n",
      "---  ------    --------------  -----  \n",
      " 0   item      21151 non-null  object \n",
      " 1   machine   21149 non-null  float64\n",
      " 2   capacity  21151 non-null  float64\n",
      "dtypes: float64(2), object(1)\n",
      "memory usage: 495.9+ KB\n"
     ]
    }
   ],
   "source": [
    "machine_info.info()"
   ]
  },
  {
   "cell_type": "code",
   "execution_count": 6,
   "metadata": {},
   "outputs": [
    {
     "name": "stdout",
     "output_type": "stream",
     "text": [
      "<class 'pandas.core.frame.DataFrame'>\n",
      "RangeIndex: 127 entries, 0 to 126\n",
      "Data columns (total 5 columns):\n",
      " #   Column  Non-Null Count  Dtype \n",
      "---  ------  --------------  ----- \n",
      " 0   영업납기    127 non-null    object\n",
      " 1   중산도면    127 non-null    object\n",
      " 2   단가      127 non-null    int64 \n",
      " 3   수량      127 non-null    int64 \n",
      " 4   선급      46 non-null     object\n",
      "dtypes: int64(2), object(3)\n",
      "memory usage: 5.1+ KB\n"
     ]
    }
   ],
   "source": [
    "order_info.info()"
   ]
  },
  {
   "cell_type": "markdown",
   "metadata": {},
   "source": [
    "##### 열이름 변경"
   ]
  },
  {
   "cell_type": "code",
   "execution_count": 10,
   "metadata": {},
   "outputs": [],
   "source": [
    "order_info = order_info.rename(columns={\n",
    "    '영업납기':'time',\n",
    "    '중산도면':'item',\n",
    "    '단가':'cost',\n",
    "    '수량':'qty',\n",
    "    '선급':'urgent'\n",
    "})\n",
    "# 왜 선급인데 prepaid가 아니라 urgent야?"
   ]
  },
  {
   "cell_type": "code",
   "execution_count": 13,
   "metadata": {},
   "outputs": [
    {
     "data": {
      "text/html": [
       "<div>\n",
       "<style scoped>\n",
       "    .dataframe tbody tr th:only-of-type {\n",
       "        vertical-align: middle;\n",
       "    }\n",
       "\n",
       "    .dataframe tbody tr th {\n",
       "        vertical-align: top;\n",
       "    }\n",
       "\n",
       "    .dataframe thead th {\n",
       "        text-align: right;\n",
       "    }\n",
       "</style>\n",
       "<table border=\"1\" class=\"dataframe\">\n",
       "  <thead>\n",
       "    <tr style=\"text-align: right;\">\n",
       "      <th></th>\n",
       "      <th>time</th>\n",
       "      <th>item</th>\n",
       "      <th>cost</th>\n",
       "      <th>qty</th>\n",
       "      <th>urgent</th>\n",
       "    </tr>\n",
       "  </thead>\n",
       "  <tbody>\n",
       "    <tr>\n",
       "      <th>122</th>\n",
       "      <td>2021-08-15</td>\n",
       "      <td>Z00807</td>\n",
       "      <td>10450</td>\n",
       "      <td>300</td>\n",
       "      <td>NaN</td>\n",
       "    </tr>\n",
       "    <tr>\n",
       "      <th>123</th>\n",
       "      <td>2021-08-18</td>\n",
       "      <td>069559</td>\n",
       "      <td>242250</td>\n",
       "      <td>28</td>\n",
       "      <td>검사품</td>\n",
       "    </tr>\n",
       "    <tr>\n",
       "      <th>124</th>\n",
       "      <td>2021-08-19</td>\n",
       "      <td>K00614</td>\n",
       "      <td>6750</td>\n",
       "      <td>12</td>\n",
       "      <td>NaN</td>\n",
       "    </tr>\n",
       "    <tr>\n",
       "      <th>125</th>\n",
       "      <td>2021-08-31</td>\n",
       "      <td>K04037</td>\n",
       "      <td>7810</td>\n",
       "      <td>400</td>\n",
       "      <td>검사품</td>\n",
       "    </tr>\n",
       "    <tr>\n",
       "      <th>126</th>\n",
       "      <td>2021-09-15</td>\n",
       "      <td>Z00807</td>\n",
       "      <td>10450</td>\n",
       "      <td>325</td>\n",
       "      <td>NaN</td>\n",
       "    </tr>\n",
       "  </tbody>\n",
       "</table>\n",
       "</div>"
      ],
      "text/plain": [
       "           time    item    cost  qty urgent\n",
       "122  2021-08-15  Z00807   10450  300    NaN\n",
       "123  2021-08-18  069559  242250   28    검사품\n",
       "124  2021-08-19  K00614    6750   12    NaN\n",
       "125  2021-08-31  K04037    7810  400    검사품\n",
       "126  2021-09-15  Z00807   10450  325    NaN"
      ]
     },
     "execution_count": 13,
     "metadata": {},
     "output_type": "execute_result"
    }
   ],
   "source": [
    "order_info.tail()"
   ]
  }
 ],
 "metadata": {
  "kernelspec": {
   "display_name": "Python 3.10.6 64-bit",
   "language": "python",
   "name": "python3"
  },
  "language_info": {
   "codemirror_mode": {
    "name": "ipython",
    "version": 3
   },
   "file_extension": ".py",
   "mimetype": "text/x-python",
   "name": "python",
   "nbconvert_exporter": "python",
   "pygments_lexer": "ipython3",
   "version": "3.10.6"
  },
  "orig_nbformat": 4,
  "vscode": {
   "interpreter": {
    "hash": "20db6503c0fb7cfef3e0f497d11af019be42a43487df99bb7debe468b2230595"
   }
  }
 },
 "nbformat": 4,
 "nbformat_minor": 2
}
